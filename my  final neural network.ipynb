{
 "cells": [
  {
   "cell_type": "code",
   "execution_count": 1,
   "metadata": {},
   "outputs": [],
   "source": [
    "import pandas as pd\n",
    "import numpy as np\n",
    "import matplotlib.pyplot as plt"
   ]
  },
  {
   "cell_type": "code",
   "execution_count": 2,
   "metadata": {},
   "outputs": [],
   "source": [
    "#ds=pd.read_csv(\"E:\\cb\\mljan19dwk\\Datasets\\mnist\\train.csv\")\n",
    "ds=pd.read_csv(\"E:/cb/mljan19dwk/Datasets/mnist/train.csv\")\n"
   ]
  },
  {
   "cell_type": "code",
   "execution_count": 3,
   "metadata": {},
   "outputs": [],
   "source": [
    "def get_one_hot_vector(labels):\n",
    "        classes=len(np.unique(labels))\n",
    "        vectors=np.zeros((labels.shape[0],classes))\n",
    "        for i,l in enumerate(labels):\n",
    "            vectors[i,l]=1\n",
    "        return vectors\n",
    " "
   ]
  },
  {
   "cell_type": "code",
   "execution_count": 4,
   "metadata": {},
   "outputs": [],
   "source": [
    "from sklearn.model_selection import train_test_split"
   ]
  },
  {
   "cell_type": "code",
   "execution_count": 5,
   "metadata": {},
   "outputs": [
    {
     "name": "stdout",
     "output_type": "stream",
     "text": [
      "(33600, 784) (8400, 784) (33600,) (8400,)\n"
     ]
    }
   ],
   "source": [
    "X_train, X_test, y_train, y_test = train_test_split(ds.values[:,1:], ds.values[:,0], test_size=0.2)\n",
    "print(X_train.shape, X_test.shape, y_train.shape, y_test.shape)"
   ]
  },
  {
   "cell_type": "code",
   "execution_count": 6,
   "metadata": {},
   "outputs": [
    {
     "data": {
      "text/plain": [
       "(33600, 10)"
      ]
     },
     "execution_count": 6,
     "metadata": {},
     "output_type": "execute_result"
    }
   ],
   "source": [
    "ytrain=get_one_hot_vector(y_train)\n",
    "ytrain.shape"
   ]
  },
  {
   "cell_type": "code",
   "execution_count": 7,
   "metadata": {},
   "outputs": [],
   "source": [
    "class neuralnetwork():\n",
    "    def __init__(self,x,y): #y is one hot vector # preprocessing\n",
    "        self.x=x\n",
    "        self.y=y\n",
    "        self.m=x.shape[0]\n",
    "        self.n=self.x.shape[1]\n",
    "        self.outputdim=10  #len(np.unique(self.y, return_counts=False))\n",
    "        self.a1=0\n",
    "        self.a2=0\n",
    "        \n",
    "        \n",
    "        self.w1=np.random.randn(self.n,256)\n",
    "        self.b1=np.random.random((1,256))\n",
    "        \n",
    "        self.w2=np.random.randn(256,64)\n",
    "        self.b2=np.random.random((1,64))\n",
    "        \n",
    "        self.w3=np.random.randn(64,self.outputdim)\n",
    "        self.b3=np.random.random((1,self.outputdim))\n",
    "\n",
    "        \n",
    "        \n",
    "        \n",
    "    def forward(self,x):        \n",
    "        z1=x.dot(self.w1)+self.b1\n",
    "        self.a1=self.sigmoid(z1)\n",
    "        \n",
    "        z2=self.a1.dot(self.w2)+self.b2\n",
    "        self.a2=self.sigmoid(z2)\n",
    "        \n",
    "        z3=self.a2.dot(self.w3)+self.b3\n",
    "        yhat=self.softmax(z3)\n",
    "\n",
    "        \n",
    "        return yhat\n",
    "        \n",
    "        \n",
    "    def backward_and_update(self,x,y,yhat,lrate=0.01):\n",
    "        \n",
    "        delta3=yhat-y\n",
    "        dldw3=self.a2.T.dot(delta3)\n",
    "        dldb3=delta3.sum(axis=0,keepdims=True)\n",
    "        \n",
    "        delta2=delta3.dot(self.w3.T)*(self.a2*(1-self.a2))\n",
    "        dldw2=self.a1.T.dot(delta2)\n",
    "        dldb2=delta2.sum(axis=0,keepdims=True)\n",
    "        \n",
    "        delta1=delta2.dot(self.w2.T)*(self.a1*(1-self.a1))\n",
    "        dldw1=x.T.dot(delta1)\n",
    "        dldb1=delta1.sum(axis=0,keepdims=True)\n",
    "        \n",
    "        #updating values\n",
    "        self.w3-=lrate*dldw3\n",
    "        self.b3-=lrate*dldb3\n",
    "        \n",
    "        self.w2-=lrate*dldw2\n",
    "        self.b2-=lrate*dldb2\n",
    "        \n",
    "        self.w1-=lrate*dldw1\n",
    "        self.b1-=lrate*dldb1\n",
    "        \n",
    "\n",
    "        \n",
    "        \n",
    "       \n",
    "    def sigmoid(self,z):\n",
    "        return 1/(1+np.exp(-z))\n",
    "    \n",
    "    def softmax(self,z):\n",
    "        return  np.exp(z)/(np.exp(z)).sum(axis=1 , keepdims = True)\n",
    "    \n",
    "    def predict(self ,x ):\n",
    "        yhat=self.forward(x)\n",
    "        return yhat.argmax(axis=1)\n",
    "    def accu(self,yhat,y):  #pass orignal y , don't pass one hot vector\n",
    "        return (yhat==y).sum()/y.shape[0]\n",
    "        \n",
    "        \n",
    "        \n",
    "        \n",
    "    def loss(self,x,y,yhat):\n",
    "        return -np.sum(y*(np.log(yhat)))\n",
    "        \n",
    "    def train(self,iteration,batchsize,lrate = 0.01):\n",
    "        loses=[]\n",
    "        for i in range(iteration):\n",
    "            size=0\n",
    "            while size+batchsize<self.m:\n",
    "                yhat = self.forward(self.x[size:size+batchsize])\n",
    "                self.backward_and_update(self.x[size:size+batchsize],self.y[size:size+batchsize],yhat,lrate)\n",
    "                size+=batchsize\n",
    "            y_total = self.forward(self.x)\n",
    "            loses.append(self.loss(self.x , self.y , y_total))\n",
    "            print(loses[-1])\n",
    "        \n",
    "        return loses"
   ]
  },
  {
   "cell_type": "code",
   "execution_count": 8,
   "metadata": {},
   "outputs": [],
   "source": [
    "X_train=X_train/255\n",
    "\n",
    "nw=neuralnetwork(X_train,ytrain)\n"
   ]
  },
  {
   "cell_type": "code",
   "execution_count": 9,
   "metadata": {
    "scrolled": true
   },
   "outputs": [
    {
     "name": "stdout",
     "output_type": "stream",
     "text": [
      "17277.474176796146\n",
      "12810.296807673843\n",
      "10171.047332537648\n",
      "8501.744650075525\n",
      "7274.131508719776\n",
      "6359.723850874502\n",
      "5605.0877685495725\n",
      "4997.451557726535\n",
      "4501.375534635693\n",
      "4062.8599824330677\n"
     ]
    }
   ],
   "source": [
    "losses = nw.train(10,128,0.01)"
   ]
  },
  {
   "cell_type": "code",
   "execution_count": 10,
   "metadata": {},
   "outputs": [
    {
     "name": "stdout",
     "output_type": "stream",
     "text": [
      "[17277.474176796146, 12810.296807673843, 10171.047332537648, 8501.744650075525, 7274.131508719776, 6359.723850874502, 5605.0877685495725, 4997.451557726535, 4501.375534635693, 4062.8599824330677]\n"
     ]
    },
    {
     "data": {
      "text/plain": [
       "4062.8599824330677"
      ]
     },
     "execution_count": 10,
     "metadata": {},
     "output_type": "execute_result"
    }
   ],
   "source": [
    "print(losses)\n",
    "losses[-1]"
   ]
  },
  {
   "cell_type": "code",
   "execution_count": 11,
   "metadata": {},
   "outputs": [
    {
     "data": {
      "image/png": "[encoded data removed]",
      "text/plain": [
       "<Figure size 432x288 with 1 Axes>"
      ]
     },
     "metadata": {
      "needs_background": "light"
     },
     "output_type": "display_data"
    }
   ],
   "source": [
    "plt.figure()\n",
    "plt.plot(losses)\n",
    "plt.show()"
   ]
  },
  {
   "cell_type": "code",
   "execution_count": 12,
   "metadata": {},
   "outputs": [
    {
     "name": "stdout",
     "output_type": "stream",
     "text": [
      "[0 5 2 ... 0 7 3]\n"
     ]
    }
   ],
   "source": [
    "yhat=nw.predict(X_test/255)\n",
    "print(yhat)\n",
    "#print(yhat.argmax(axis=1).shape)"
   ]
  },
  {
   "cell_type": "code",
   "execution_count": 14,
   "metadata": {},
   "outputs": [
    {
     "name": "stdout",
     "output_type": "stream",
     "text": [
      "91.30952380952381\n"
     ]
    }
   ],
   "source": [
    "y=y_test\n",
    "#print(y.shape)\n",
    "#print(y_test.shape)\n",
    "acccuracy=nw.accu(yhat,y)\n",
    "print(acccuracy*100)\n",
    "#print((yhat==y).sum()/y.shape[0])"
   ]
  },
  {
   "cell_type": "code",
   "execution_count": null,
   "metadata": {},
   "outputs": [],
   "source": []
  }
 ],
 "metadata": {
  "kernelspec": {
   "display_name": "Python 3",
   "language": "python",
   "name": "python3"
  },
  "language_info": {
   "codemirror_mode": {
    "name": "ipython",
    "version": 3
   },
   "file_extension": ".py",
   "mimetype": "text/x-python",
   "name": "python",
   "nbconvert_exporter": "python",
   "pygments_lexer": "ipython3",
   "version": "3.7.3"
  }
 },
 "nbformat": 4,
 "nbformat_minor": 2
}
